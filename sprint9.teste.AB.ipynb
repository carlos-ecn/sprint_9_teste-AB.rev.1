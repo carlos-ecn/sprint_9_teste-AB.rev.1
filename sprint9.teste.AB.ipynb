{
 "cells": [
  {
   "cell_type": "markdown",
   "id": "2b5ae94e",
   "metadata": {},
   "source": [
    "# Projeto Marketing - Teste de Hipóteses para Aumento de receita"
   ]
  },
  {
   "cell_type": "markdown",
   "id": "5a66d3d2",
   "metadata": {},
   "source": [
    "# Priorização das hipóteses, teste A/B, análise de negócios"
   ]
  },
  {
   "cell_type": "markdown",
   "id": "75fe60b0",
   "metadata": {},
   "source": []
  },
  {
   "cell_type": "code",
   "execution_count": 154,
   "id": "946d80b9",
   "metadata": {},
   "outputs": [],
   "source": [
    "import pandas as pd\n",
    "import datetime as dt\n",
    "import numpy as np\n",
    "import matplotlib.pyplot as plt\n",
    "from scipy import stats as st\n",
    "import math as mth"
   ]
  },
  {
   "cell_type": "code",
   "execution_count": 155,
   "id": "9d6899a5",
   "metadata": {},
   "outputs": [],
   "source": [
    "hypotheses_us = pd.read_csv('hypotheses_us.csv',sep=';')\n",
    "orders_us = pd.read_csv('orders_us.csv',sep=',')\n",
    "visits_us = pd.read_csv('visits_us.csv',sep=',')"
   ]
  },
  {
   "cell_type": "code",
   "execution_count": 156,
   "id": "259e8cea",
   "metadata": {},
   "outputs": [
    {
     "data": {
      "text/html": [
       "<div>\n",
       "<style scoped>\n",
       "    .dataframe tbody tr th:only-of-type {\n",
       "        vertical-align: middle;\n",
       "    }\n",
       "\n",
       "    .dataframe tbody tr th {\n",
       "        vertical-align: top;\n",
       "    }\n",
       "\n",
       "    .dataframe thead th {\n",
       "        text-align: right;\n",
       "    }\n",
       "</style>\n",
       "<table border=\"1\" class=\"dataframe\">\n",
       "  <thead>\n",
       "    <tr style=\"text-align: right;\">\n",
       "      <th></th>\n",
       "      <th>Hypothesis</th>\n",
       "      <th>Reach</th>\n",
       "      <th>Impact</th>\n",
       "      <th>Confidence</th>\n",
       "      <th>Effort</th>\n",
       "    </tr>\n",
       "  </thead>\n",
       "  <tbody>\n",
       "    <tr>\n",
       "      <th>0</th>\n",
       "      <td>Add two new channels for attracting traffic. T...</td>\n",
       "      <td>3</td>\n",
       "      <td>10</td>\n",
       "      <td>8</td>\n",
       "      <td>6</td>\n",
       "    </tr>\n",
       "    <tr>\n",
       "      <th>1</th>\n",
       "      <td>Launch your own delivery service. This will sh...</td>\n",
       "      <td>2</td>\n",
       "      <td>5</td>\n",
       "      <td>4</td>\n",
       "      <td>10</td>\n",
       "    </tr>\n",
       "    <tr>\n",
       "      <th>2</th>\n",
       "      <td>Add product recommendation blocks to the store...</td>\n",
       "      <td>8</td>\n",
       "      <td>3</td>\n",
       "      <td>7</td>\n",
       "      <td>3</td>\n",
       "    </tr>\n",
       "    <tr>\n",
       "      <th>3</th>\n",
       "      <td>Change the category structure. This will incre...</td>\n",
       "      <td>8</td>\n",
       "      <td>3</td>\n",
       "      <td>3</td>\n",
       "      <td>8</td>\n",
       "    </tr>\n",
       "    <tr>\n",
       "      <th>4</th>\n",
       "      <td>Change the background color on the main page. ...</td>\n",
       "      <td>3</td>\n",
       "      <td>1</td>\n",
       "      <td>1</td>\n",
       "      <td>1</td>\n",
       "    </tr>\n",
       "    <tr>\n",
       "      <th>5</th>\n",
       "      <td>Add a customer review page. This will increase...</td>\n",
       "      <td>3</td>\n",
       "      <td>2</td>\n",
       "      <td>2</td>\n",
       "      <td>3</td>\n",
       "    </tr>\n",
       "    <tr>\n",
       "      <th>6</th>\n",
       "      <td>Show banners with current offers and sales on ...</td>\n",
       "      <td>5</td>\n",
       "      <td>3</td>\n",
       "      <td>8</td>\n",
       "      <td>3</td>\n",
       "    </tr>\n",
       "    <tr>\n",
       "      <th>7</th>\n",
       "      <td>Add a subscription form to all the main pages....</td>\n",
       "      <td>10</td>\n",
       "      <td>7</td>\n",
       "      <td>8</td>\n",
       "      <td>5</td>\n",
       "    </tr>\n",
       "    <tr>\n",
       "      <th>8</th>\n",
       "      <td>Launch a promotion that gives users discounts ...</td>\n",
       "      <td>1</td>\n",
       "      <td>9</td>\n",
       "      <td>9</td>\n",
       "      <td>5</td>\n",
       "    </tr>\n",
       "  </tbody>\n",
       "</table>\n",
       "</div>"
      ],
      "text/plain": [
       "                                          Hypothesis  Reach  Impact  \\\n",
       "0  Add two new channels for attracting traffic. T...      3      10   \n",
       "1  Launch your own delivery service. This will sh...      2       5   \n",
       "2  Add product recommendation blocks to the store...      8       3   \n",
       "3  Change the category structure. This will incre...      8       3   \n",
       "4  Change the background color on the main page. ...      3       1   \n",
       "5  Add a customer review page. This will increase...      3       2   \n",
       "6  Show banners with current offers and sales on ...      5       3   \n",
       "7  Add a subscription form to all the main pages....     10       7   \n",
       "8  Launch a promotion that gives users discounts ...      1       9   \n",
       "\n",
       "   Confidence  Effort  \n",
       "0           8       6  \n",
       "1           4      10  \n",
       "2           7       3  \n",
       "3           3       8  \n",
       "4           1       1  \n",
       "5           2       3  \n",
       "6           8       3  \n",
       "7           8       5  \n",
       "8           9       5  "
      ]
     },
     "execution_count": 156,
     "metadata": {},
     "output_type": "execute_result"
    }
   ],
   "source": [
    "hypotheses_us"
   ]
  },
  {
   "cell_type": "markdown",
   "id": "46c0bdee",
   "metadata": {},
   "source": [
    "### Verificando as hipóteses"
   ]
  },
  {
   "cell_type": "markdown",
   "id": "aeb0250a",
   "metadata": {},
   "source": [
    "### Teste ICE"
   ]
  },
  {
   "cell_type": "code",
   "execution_count": 157,
   "id": "839aa79c",
   "metadata": {},
   "outputs": [
    {
     "name": "stdout",
     "output_type": "stream",
     "text": [
      "                                          Hypothesis  Reach  Impact  \\\n",
      "8  Launch a promotion that gives users discounts ...      1       9   \n",
      "0  Add two new channels for attracting traffic. T...      3      10   \n",
      "7  Add a subscription form to all the main pages....     10       7   \n",
      "6  Show banners with current offers and sales on ...      5       3   \n",
      "2  Add product recommendation blocks to the store...      8       3   \n",
      "1  Launch your own delivery service. This will sh...      2       5   \n",
      "5  Add a customer review page. This will increase...      3       2   \n",
      "3  Change the category structure. This will incre...      8       3   \n",
      "4  Change the background color on the main page. ...      3       1   \n",
      "\n",
      "   Confidence  Effort        ICE  \n",
      "8           9       5  16.200000  \n",
      "0           8       6  13.333333  \n",
      "7           8       5  11.200000  \n",
      "6           8       3   8.000000  \n",
      "2           7       3   7.000000  \n",
      "1           4      10   2.000000  \n",
      "5           2       3   1.333333  \n",
      "3           3       8   1.125000  \n",
      "4           1       1   1.000000  \n"
     ]
    }
   ],
   "source": [
    "# Fórmula de calculo do teste ICE\n",
    "# ICE = ( hypotheses_us['Impact'] * hypotheses_us['Confidence'] ) / hypotheses_us['Effort']\n",
    "\n",
    "def calc_ice(row):\n",
    "    return ( row['Impact'] * row['Confidence'] ) / row['Effort']\n",
    "\n",
    "hypotheses_us['ICE'] = hypotheses_us.apply(calc_ice, axis=1)\n",
    "\n",
    "print(hypotheses_us.sort_values(by='ICE',ascending=False))"
   ]
  },
  {
   "cell_type": "code",
   "execution_count": 158,
   "id": "1b17d958",
   "metadata": {},
   "outputs": [
    {
     "name": "stdout",
     "output_type": "stream",
     "text": [
      "                                          Hypothesis  Reach  Impact  \\\n",
      "7  Add a subscription form to all the main pages....     10       7   \n",
      "2  Add product recommendation blocks to the store...      8       3   \n",
      "0  Add two new channels for attracting traffic. T...      3      10   \n",
      "6  Show banners with current offers and sales on ...      5       3   \n",
      "8  Launch a promotion that gives users discounts ...      1       9   \n",
      "3  Change the category structure. This will incre...      8       3   \n",
      "1  Launch your own delivery service. This will sh...      2       5   \n",
      "5  Add a customer review page. This will increase...      3       2   \n",
      "4  Change the background color on the main page. ...      3       1   \n",
      "\n",
      "   Confidence  Effort        ICE   RICE  \n",
      "7           8       5  11.200000  112.0  \n",
      "2           7       3   7.000000   56.0  \n",
      "0           8       6  13.333333   40.0  \n",
      "6           8       3   8.000000   40.0  \n",
      "8           9       5  16.200000   16.2  \n",
      "3           3       8   1.125000    9.0  \n",
      "1           4      10   2.000000    4.0  \n",
      "5           2       3   1.333333    4.0  \n",
      "4           1       1   1.000000    3.0  \n"
     ]
    }
   ],
   "source": [
    "# Fórmula de calculo do teste RICE\n",
    "# RICE = ( hypotheses_us['Reach'] * hypotheses_us['Impact'] * hypotheses_us['Confidence'] ) / hypotheses_us['Effort']\n",
    "\n",
    "def calc_ice(row):\n",
    "    return ( row['Reach'] * row['Impact'] * row['Confidence'] ) / row['Effort']\n",
    "\n",
    "hypotheses_us['RICE'] = hypotheses_us.apply(calc_ice, axis=1)\n",
    "\n",
    "print(hypotheses_us.sort_values(by=['RICE','ICE'],ascending=False))"
   ]
  },
  {
   "cell_type": "code",
   "execution_count": 159,
   "id": "15744446",
   "metadata": {},
   "outputs": [
    {
     "data": {
      "text/html": [
       "<div>\n",
       "<style scoped>\n",
       "    .dataframe tbody tr th:only-of-type {\n",
       "        vertical-align: middle;\n",
       "    }\n",
       "\n",
       "    .dataframe tbody tr th {\n",
       "        vertical-align: top;\n",
       "    }\n",
       "\n",
       "    .dataframe thead th {\n",
       "        text-align: right;\n",
       "    }\n",
       "</style>\n",
       "<table border=\"1\" class=\"dataframe\">\n",
       "  <thead>\n",
       "    <tr style=\"text-align: right;\">\n",
       "      <th></th>\n",
       "      <th>Hypothesis</th>\n",
       "      <th>Reach</th>\n",
       "      <th>Impact</th>\n",
       "      <th>Confidence</th>\n",
       "      <th>Effort</th>\n",
       "      <th>ICE</th>\n",
       "      <th>RICE</th>\n",
       "    </tr>\n",
       "  </thead>\n",
       "  <tbody>\n",
       "    <tr>\n",
       "      <th>0</th>\n",
       "      <td>Add two new channels for attracting traffic. T...</td>\n",
       "      <td>3</td>\n",
       "      <td>10</td>\n",
       "      <td>8</td>\n",
       "      <td>6</td>\n",
       "      <td>13.333333</td>\n",
       "      <td>40.0</td>\n",
       "    </tr>\n",
       "    <tr>\n",
       "      <th>1</th>\n",
       "      <td>Launch your own delivery service. This will sh...</td>\n",
       "      <td>2</td>\n",
       "      <td>5</td>\n",
       "      <td>4</td>\n",
       "      <td>10</td>\n",
       "      <td>2.000000</td>\n",
       "      <td>4.0</td>\n",
       "    </tr>\n",
       "    <tr>\n",
       "      <th>2</th>\n",
       "      <td>Add product recommendation blocks to the store...</td>\n",
       "      <td>8</td>\n",
       "      <td>3</td>\n",
       "      <td>7</td>\n",
       "      <td>3</td>\n",
       "      <td>7.000000</td>\n",
       "      <td>56.0</td>\n",
       "    </tr>\n",
       "    <tr>\n",
       "      <th>3</th>\n",
       "      <td>Change the category structure. This will incre...</td>\n",
       "      <td>8</td>\n",
       "      <td>3</td>\n",
       "      <td>3</td>\n",
       "      <td>8</td>\n",
       "      <td>1.125000</td>\n",
       "      <td>9.0</td>\n",
       "    </tr>\n",
       "    <tr>\n",
       "      <th>4</th>\n",
       "      <td>Change the background color on the main page. ...</td>\n",
       "      <td>3</td>\n",
       "      <td>1</td>\n",
       "      <td>1</td>\n",
       "      <td>1</td>\n",
       "      <td>1.000000</td>\n",
       "      <td>3.0</td>\n",
       "    </tr>\n",
       "    <tr>\n",
       "      <th>5</th>\n",
       "      <td>Add a customer review page. This will increase...</td>\n",
       "      <td>3</td>\n",
       "      <td>2</td>\n",
       "      <td>2</td>\n",
       "      <td>3</td>\n",
       "      <td>1.333333</td>\n",
       "      <td>4.0</td>\n",
       "    </tr>\n",
       "    <tr>\n",
       "      <th>6</th>\n",
       "      <td>Show banners with current offers and sales on ...</td>\n",
       "      <td>5</td>\n",
       "      <td>3</td>\n",
       "      <td>8</td>\n",
       "      <td>3</td>\n",
       "      <td>8.000000</td>\n",
       "      <td>40.0</td>\n",
       "    </tr>\n",
       "    <tr>\n",
       "      <th>7</th>\n",
       "      <td>Add a subscription form to all the main pages....</td>\n",
       "      <td>10</td>\n",
       "      <td>7</td>\n",
       "      <td>8</td>\n",
       "      <td>5</td>\n",
       "      <td>11.200000</td>\n",
       "      <td>112.0</td>\n",
       "    </tr>\n",
       "    <tr>\n",
       "      <th>8</th>\n",
       "      <td>Launch a promotion that gives users discounts ...</td>\n",
       "      <td>1</td>\n",
       "      <td>9</td>\n",
       "      <td>9</td>\n",
       "      <td>5</td>\n",
       "      <td>16.200000</td>\n",
       "      <td>16.2</td>\n",
       "    </tr>\n",
       "  </tbody>\n",
       "</table>\n",
       "</div>"
      ],
      "text/plain": [
       "                                          Hypothesis  Reach  Impact  \\\n",
       "0  Add two new channels for attracting traffic. T...      3      10   \n",
       "1  Launch your own delivery service. This will sh...      2       5   \n",
       "2  Add product recommendation blocks to the store...      8       3   \n",
       "3  Change the category structure. This will incre...      8       3   \n",
       "4  Change the background color on the main page. ...      3       1   \n",
       "5  Add a customer review page. This will increase...      3       2   \n",
       "6  Show banners with current offers and sales on ...      5       3   \n",
       "7  Add a subscription form to all the main pages....     10       7   \n",
       "8  Launch a promotion that gives users discounts ...      1       9   \n",
       "\n",
       "   Confidence  Effort        ICE   RICE  \n",
       "0           8       6  13.333333   40.0  \n",
       "1           4      10   2.000000    4.0  \n",
       "2           7       3   7.000000   56.0  \n",
       "3           3       8   1.125000    9.0  \n",
       "4           1       1   1.000000    3.0  \n",
       "5           2       3   1.333333    4.0  \n",
       "6           8       3   8.000000   40.0  \n",
       "7           8       5  11.200000  112.0  \n",
       "8           9       5  16.200000   16.2  "
      ]
     },
     "execution_count": 159,
     "metadata": {},
     "output_type": "execute_result"
    }
   ],
   "source": [
    "hypotheses_us"
   ]
  },
  {
   "cell_type": "markdown",
   "id": "a4daaaa1",
   "metadata": {},
   "source": [
    "    Os teste ICE e RICE diferem principalemnte por conta do parâmetro 'Alcançe'(Reach).\n",
    "    Analisando as hipóteses com os resultados de ambos os testes, as hipóteses mais interessantes para impactar o resustado do time, e que me parecem ser possíveis de comparação são:\n",
    "\n",
    "    1 - index 2 : Add product recommendation blocks to the store's site. This will increase conversion and average purchase size;\n",
    "    2 - index 0 : Add two new channels for attracting traffic. This will bring 30% more users;\n",
    "    3 - index 6 : Show banners with current offers and sales on the main page. This will boost conversion;\n",
    "    "
   ]
  },
  {
   "cell_type": "markdown",
   "id": "6161c44c",
   "metadata": {},
   "source": [
    " - O teste A/B será realizado na hipótese index 2, onde iremos verificar estatisticamente a diferenca do site normal e do site com os blocos de recomendações de produtos. Verificação no aumento da taxa de conversão e do tamanho da compra média."
   ]
  },
  {
   "cell_type": "markdown",
   "id": "67ae503f",
   "metadata": {},
   "source": [
    "## Análise exploratória e preparação das bases"
   ]
  },
  {
   "cell_type": "code",
   "execution_count": 160,
   "id": "00f4aab6",
   "metadata": {},
   "outputs": [
    {
     "name": "stdout",
     "output_type": "stream",
     "text": [
      "transactionId    0\n",
      "visitorId        0\n",
      "date             0\n",
      "revenue          0\n",
      "group            0\n",
      "dtype: int64\n"
     ]
    }
   ],
   "source": [
    "print(orders_us.isna().sum())"
   ]
  },
  {
   "cell_type": "code",
   "execution_count": 161,
   "id": "fe634718",
   "metadata": {},
   "outputs": [
    {
     "name": "stdout",
     "output_type": "stream",
     "text": [
      "0\n"
     ]
    }
   ],
   "source": [
    "print(orders_us.duplicated().sum())"
   ]
  },
  {
   "cell_type": "code",
   "execution_count": 162,
   "id": "d36a8d8a",
   "metadata": {},
   "outputs": [
    {
     "name": "stdout",
     "output_type": "stream",
     "text": [
      "date      0\n",
      "group     0\n",
      "visits    0\n",
      "dtype: int64\n"
     ]
    }
   ],
   "source": [
    "print(visits_us.isna().sum())"
   ]
  },
  {
   "cell_type": "code",
   "execution_count": 163,
   "id": "e79e7f5e",
   "metadata": {},
   "outputs": [
    {
     "name": "stdout",
     "output_type": "stream",
     "text": [
      "0\n"
     ]
    }
   ],
   "source": [
    "print(visits_us.duplicated().sum())"
   ]
  },
  {
   "cell_type": "code",
   "execution_count": 164,
   "id": "c1830a1f",
   "metadata": {},
   "outputs": [
    {
     "name": "stdout",
     "output_type": "stream",
     "text": [
      "   transactionId   visitorId        date  revenue group\n",
      "0     3667963787  3312258926  2019-08-15     30.4     B\n",
      "1     2804400009  3642806036  2019-08-15     15.2     B\n",
      "2     2961555356  4069496402  2019-08-15     10.2     A\n",
      "3     3797467345  1196621759  2019-08-15    155.1     B\n",
      "4     2282983706  2322279887  2019-08-15     40.5     B\n",
      "\n",
      "<class 'pandas.core.frame.DataFrame'>\n",
      "RangeIndex: 1197 entries, 0 to 1196\n",
      "Data columns (total 5 columns):\n",
      " #   Column         Non-Null Count  Dtype  \n",
      "---  ------         --------------  -----  \n",
      " 0   transactionId  1197 non-null   int64  \n",
      " 1   visitorId      1197 non-null   int64  \n",
      " 2   date           1197 non-null   object \n",
      " 3   revenue        1197 non-null   float64\n",
      " 4   group          1197 non-null   object \n",
      "dtypes: float64(1), int64(2), object(2)\n",
      "memory usage: 46.9+ KB\n",
      "None\n",
      "\n",
      "       transactionId     visitorId       revenue\n",
      "count   1.197000e+03  1.197000e+03   1197.000000\n",
      "mean    2.155621e+09  2.165960e+09    131.491646\n",
      "std     1.229085e+09  1.236014e+09    603.004729\n",
      "min     1.062393e+06  5.114589e+06      5.000000\n",
      "25%     1.166776e+09  1.111826e+09     20.800000\n",
      "50%     2.145194e+09  2.217985e+09     50.200000\n",
      "75%     3.237740e+09  3.177606e+09    130.400000\n",
      "max     4.293856e+09  4.283872e+09  19920.400000\n"
     ]
    }
   ],
   "source": [
    "print(orders_us.head())\n",
    "print()\n",
    "print(orders_us.info())\n",
    "print()\n",
    "print(orders_us.describe())"
   ]
  },
  {
   "cell_type": "code",
   "execution_count": 165,
   "id": "1efc3f0e",
   "metadata": {},
   "outputs": [
    {
     "name": "stdout",
     "output_type": "stream",
     "text": [
      "         date group  visits\n",
      "0  2019-08-01     A     719\n",
      "1  2019-08-02     A     619\n",
      "2  2019-08-03     A     507\n",
      "3  2019-08-04     A     717\n",
      "4  2019-08-05     A     756\n",
      "\n",
      "<class 'pandas.core.frame.DataFrame'>\n",
      "RangeIndex: 62 entries, 0 to 61\n",
      "Data columns (total 3 columns):\n",
      " #   Column  Non-Null Count  Dtype \n",
      "---  ------  --------------  ----- \n",
      " 0   date    62 non-null     object\n",
      " 1   group   62 non-null     object\n",
      " 2   visits  62 non-null     int64 \n",
      "dtypes: int64(1), object(2)\n",
      "memory usage: 1.6+ KB\n",
      "None\n",
      "\n",
      "           visits\n",
      "count   62.000000\n",
      "mean   607.290323\n",
      "std    114.400560\n",
      "min    361.000000\n",
      "25%    534.000000\n",
      "50%    624.500000\n",
      "75%    710.500000\n",
      "max    770.000000\n"
     ]
    }
   ],
   "source": [
    "print(visits_us.head())\n",
    "print()\n",
    "print(visits_us.info())\n",
    "print()\n",
    "print(visits_us.describe())"
   ]
  },
  {
   "cell_type": "markdown",
   "id": "5c5fb850",
   "metadata": {},
   "source": [
    "    Bases sem nulos e sem linhas duplicadas"
   ]
  },
  {
   "cell_type": "markdown",
   "id": "99133108",
   "metadata": {},
   "source": [
    "## Teste A/B"
   ]
  },
  {
   "cell_type": "markdown",
   "id": "b44ce26e",
   "metadata": {},
   "source": [
    " - Hipótese Nula: o site normal A e o site teste B, são iguais, sem diferenças após a recomendação de produtos;\n",
    "\n",
    " - Hipótese Nula: o site normal A e o site teste B, são DIFERENTES, há diferenças estatisticas após a recomendação de produtos em blocos no site;\n",
    "\n",
    " alpha = 5% = 0.05\n",
    "\n",
    "O teste A/B será realizado na hipótese index 2, onde iremos verificar estatisticamente a diferenca do site normal e do site com os blocos de recomendações de produtos. Verificação no aumento da taxa de conversão e do tamanho da compra média."
   ]
  },
  {
   "cell_type": "markdown",
   "id": "d70b2bac",
   "metadata": {},
   "source": [
    "### Taxa de conversão"
   ]
  },
  {
   "cell_type": "code",
   "execution_count": 166,
   "id": "79aba8a1",
   "metadata": {},
   "outputs": [],
   "source": [
    "# orders_us['date'] = orders_us['date'].map(lambda x: dt.datetime.strptime(x, '%d/%m/%Y'))\n",
    "# visits_us['date'] = visits_us['date'].map(lambda x: dt.datetime.strptime(x, '%d/%m/%Y'))"
   ]
  },
  {
   "cell_type": "code",
   "execution_count": 167,
   "id": "810f9a28",
   "metadata": {},
   "outputs": [],
   "source": [
    "orders_user_A = orders_us[orders_us['group']=='A'].groupby('visitorId',as_index=False).agg({'transactionId': pd.Series.nunique})\n",
    "orders_user_B = orders_us[orders_us['group']=='B'].groupby('visitorId',as_index=False).agg({'transactionId': pd.Series.nunique})"
   ]
  },
  {
   "cell_type": "code",
   "execution_count": 168,
   "id": "ddd4c35e",
   "metadata": {},
   "outputs": [],
   "source": [
    "qtd_pedidos_A = pd.concat(\n",
    "    [\n",
    "        orders_user_A['transactionId'],\n",
    "        pd.Series(\n",
    "            0,\n",
    "            index=np.arange(\n",
    "                visits_us[visits_us['group'] == 'A']['visits'].sum()\n",
    "                - len(orders_user_A['transactionId'])\n",
    "            ),\n",
    "            name='transactionId',\n",
    "        ),\n",
    "    ],\n",
    "    axis=0,\n",
    ")"
   ]
  },
  {
   "cell_type": "code",
   "execution_count": 169,
   "id": "db951800",
   "metadata": {},
   "outputs": [
    {
     "data": {
      "text/plain": [
       "0        1\n",
       "1        1\n",
       "2        1\n",
       "3        1\n",
       "4        1\n",
       "        ..\n",
       "18228    0\n",
       "18229    0\n",
       "18230    0\n",
       "18231    0\n",
       "18232    0\n",
       "Name: transactionId, Length: 18736, dtype: int64"
      ]
     },
     "execution_count": 169,
     "metadata": {},
     "output_type": "execute_result"
    }
   ],
   "source": [
    "qtd_pedidos_A"
   ]
  },
  {
   "cell_type": "code",
   "execution_count": 170,
   "id": "adf38045",
   "metadata": {},
   "outputs": [],
   "source": [
    "qtd_pedidos_B = pd.concat(\n",
    "    [\n",
    "        orders_user_B['transactionId'],\n",
    "        pd.Series(\n",
    "            0,\n",
    "            index=np.arange(\n",
    "                visits_us[visits_us['group'] == 'B']['visits'].sum()\n",
    "                - len(orders_user_B['transactionId'])\n",
    "            ),\n",
    "            name='transactionId',\n",
    "        ),\n",
    "    ],\n",
    "    axis=0,\n",
    ")"
   ]
  },
  {
   "cell_type": "code",
   "execution_count": 171,
   "id": "b14fbf86",
   "metadata": {},
   "outputs": [
    {
     "name": "stdout",
     "output_type": "stream",
     "text": [
      "MannwhitneyuResult(statistic=176473106.0, pvalue=0.016792355056752608)\n",
      "pvalue =  0.016792355056752608\n"
     ]
    }
   ],
   "source": [
    "conversao_mannwhitneyu = st.mannwhitneyu(qtd_pedidos_A,qtd_pedidos_B)\n",
    "print(conversao_mannwhitneyu)\n",
    "print('pvalue = ', conversao_mannwhitneyu[1])"
   ]
  },
  {
   "cell_type": "code",
   "execution_count": 172,
   "id": "be52dc92",
   "metadata": {},
   "outputs": [
    {
     "name": "stdout",
     "output_type": "stream",
     "text": [
      "0.13807884655320146\n"
     ]
    }
   ],
   "source": [
    "media_relativa = (qtd_pedidos_B.mean() / qtd_pedidos_A.mean()) - 1\n",
    "print(media_relativa)"
   ]
  },
  {
   "cell_type": "markdown",
   "id": "451c76c7",
   "metadata": {},
   "source": [
    "Conclusão da conversão:\n",
    "    \n",
    "    O p-value = 0.017 é estatisticamente menor que o alpha=0.05, com isso rejeitamos a hipótese nula e verificamos que há mudanças ao se implantar os blocos de recomendações aos clientes.\n",
    "    A média de ganho relativa foi de 13,8%. Site B teste 13,8% maior conversão do que o site A."
   ]
  },
  {
   "cell_type": "markdown",
   "id": "5cbd74f3",
   "metadata": {},
   "source": [
    "### Comparação de volumes médios"
   ]
  },
  {
   "cell_type": "code",
   "execution_count": 173,
   "id": "af2245d5",
   "metadata": {},
   "outputs": [],
   "source": [
    "revenue_A = orders_us[orders_us['group'] == 'A']['revenue']\n",
    "revenue_B = orders_us[orders_us['group'] == 'B']['revenue']"
   ]
  },
  {
   "cell_type": "code",
   "execution_count": 174,
   "id": "94b36472",
   "metadata": {},
   "outputs": [
    {
     "name": "stdout",
     "output_type": "stream",
     "text": [
      "MannwhitneyuResult(statistic=175872.5, pvalue=0.6915246773264736)\n",
      "pvalue =  0.6915246773264736\n"
     ]
    }
   ],
   "source": [
    "revenue_mannwhitneyu = st.mannwhitneyu(revenue_A,revenue_B)\n",
    "print(revenue_mannwhitneyu)\n",
    "print('pvalue = ', revenue_mannwhitneyu[1])"
   ]
  },
  {
   "cell_type": "code",
   "execution_count": 175,
   "id": "17c632a8",
   "metadata": {},
   "outputs": [
    {
     "name": "stdout",
     "output_type": "stream",
     "text": [
      "0.25165300678182456\n"
     ]
    }
   ],
   "source": [
    "media_revenue_rel = (revenue_B.mean() / revenue_A.mean()) -1\n",
    "print(media_revenue_rel)"
   ]
  },
  {
   "cell_type": "markdown",
   "id": "b1943b68",
   "metadata": {},
   "source": [
    "Conclusão da receita:\n",
    "    \n",
    "    O p-value = 0.69 é estatisticamente relevante sendo maior que o alpha=0.05, com isso não podemos rejeitar a hipótese nula e verificamos que há não mudanças ao se implantar os blocos de recomendações aos clientes.\n",
    "    Mas média de ganho relativa foi de 25,2%. Site B teste 25,2% maior conversão do que o site A.\n",
    "    Sendo assim necessário realizar mais algumas investigações quanto a anomalias."
   ]
  },
  {
   "cell_type": "markdown",
   "id": "8f33015e",
   "metadata": {},
   "source": [
    "### Investigação de Anomalias - Outliers"
   ]
  },
  {
   "cell_type": "markdown",
   "id": "cb1c0bda",
   "metadata": {},
   "source": [
    "Anomalias - Quantidade de pedidos"
   ]
  },
  {
   "cell_type": "code",
   "execution_count": 176,
   "id": "5db2789f",
   "metadata": {},
   "outputs": [
    {
     "name": "stdout",
     "output_type": "stream",
     "text": [
      "[1. 2. 4.]\n"
     ]
    }
   ],
   "source": [
    "out_orders = orders_us.drop(['group','revenue','date'],axis=1).groupby('visitorId', as_index=False).agg({'transactionId':pd.Series.nunique})\n",
    "# out_orders\n",
    "print(np.percentile(out_orders['transactionId'],[90,95,99]))"
   ]
  },
  {
   "cell_type": "code",
   "execution_count": 177,
   "id": "42cb5f6b",
   "metadata": {},
   "outputs": [
    {
     "data": {
      "text/plain": [
       "(array([937.,  64.,  17.,   3.,   6.,   0.,   0.,   1.,   1.,   2.]),\n",
       " array([ 1.,  2.,  3.,  4.,  5.,  6.,  7.,  8.,  9., 10., 11.]),\n",
       " <BarContainer object of 10 artists>)"
      ]
     },
     "execution_count": 177,
     "metadata": {},
     "output_type": "execute_result"
    },
    {
     "data": {
      "image/png": "[encoded data removed]",
      "text/plain": [
       "<Figure size 640x480 with 1 Axes>"
      ]
     },
     "metadata": {},
     "output_type": "display_data"
    }
   ],
   "source": [
    "plt.hist(out_orders['transactionId'])"
   ]
  },
  {
   "cell_type": "code",
   "execution_count": 178,
   "id": "dfc154e6",
   "metadata": {},
   "outputs": [
    {
     "data": {
      "text/plain": [
       "<matplotlib.collections.PathCollection at 0x15072ba7680>"
      ]
     },
     "execution_count": 178,
     "metadata": {},
     "output_type": "execute_result"
    },
    {
     "data": {
      "image/png": "[encoded data removed]",
      "text/plain": [
       "<Figure size 640x480 with 1 Axes>"
      ]
     },
     "metadata": {},
     "output_type": "display_data"
    }
   ],
   "source": [
    "apoio_eixoX_out_orders = pd.Series(range(0, len(out_orders)))\n",
    "\n",
    "plt.scatter(apoio_eixoX_out_orders, out_orders['transactionId'])"
   ]
  },
  {
   "cell_type": "markdown",
   "id": "8e26ab45",
   "metadata": {},
   "source": [
    "Anomalias - Receita"
   ]
  },
  {
   "cell_type": "code",
   "execution_count": 179,
   "id": "90660d5f",
   "metadata": {},
   "outputs": [
    {
     "name": "stdout",
     "output_type": "stream",
     "text": [
      "[282.48  435.54  900.904]\n"
     ]
    }
   ],
   "source": [
    "print(np.percentile(orders_us['revenue'],[90,95,99]))"
   ]
  },
  {
   "cell_type": "code",
   "execution_count": 180,
   "id": "d5938126",
   "metadata": {},
   "outputs": [
    {
     "data": {
      "text/plain": [
       "(array([1.195e+03, 1.000e+00, 0.000e+00, 0.000e+00, 0.000e+00, 0.000e+00,\n",
       "        0.000e+00, 0.000e+00, 0.000e+00, 1.000e+00]),\n",
       " array([5.000000e+00, 1.996540e+03, 3.988080e+03, 5.979620e+03,\n",
       "        7.971160e+03, 9.962700e+03, 1.195424e+04, 1.394578e+04,\n",
       "        1.593732e+04, 1.792886e+04, 1.992040e+04]),\n",
       " <BarContainer object of 10 artists>)"
      ]
     },
     "execution_count": 180,
     "metadata": {},
     "output_type": "execute_result"
    },
    {
     "data": {
      "image/png": "[encoded data removed]",
      "text/plain": [
       "<Figure size 640x480 with 1 Axes>"
      ]
     },
     "metadata": {},
     "output_type": "display_data"
    }
   ],
   "source": [
    "plt.hist(orders_us['revenue'])"
   ]
  },
  {
   "cell_type": "code",
   "execution_count": 181,
   "id": "db0ffc7a",
   "metadata": {},
   "outputs": [
    {
     "data": {
      "text/plain": [
       "<matplotlib.collections.PathCollection at 0x15072c08440>"
      ]
     },
     "execution_count": 181,
     "metadata": {},
     "output_type": "execute_result"
    },
    {
     "data": {
      "image/png": "[encoded data removed]",
      "text/plain": [
       "<Figure size 640x480 with 1 Axes>"
      ]
     },
     "metadata": {},
     "output_type": "display_data"
    }
   ],
   "source": [
    "apoio_eixoX_out_revenue = pd.Series(range(0, len(orders_us['revenue'])))\n",
    "\n",
    "plt.scatter(apoio_eixoX_out_revenue, orders_us['revenue'])"
   ]
  },
  {
   "cell_type": "markdown",
   "id": "55698ec6",
   "metadata": {},
   "source": [
    "Novos dataframes excluido os outliers de qtd de pedidos e receita"
   ]
  },
  {
   "cell_type": "code",
   "execution_count": 182,
   "id": "e23ad1c0",
   "metadata": {},
   "outputs": [],
   "source": [
    "users_pedidos_out = pd.concat(\n",
    "    [orders_user_A[orders_user_A['transactionId'] > 2]['visitorId'],\n",
    "    orders_user_B[orders_user_B['transactionId'] > 2]['visitorId'],\n",
    "    ],\n",
    "    axis=0\n",
    ")\n",
    "\n",
    "users_revenue_out = orders_us[orders_us['revenue'] > 1000.0]['visitorId']\n"
   ]
  },
  {
   "cell_type": "code",
   "execution_count": 183,
   "id": "9e643e9c",
   "metadata": {},
   "outputs": [
    {
     "name": "stdout",
     "output_type": "stream",
     "text": [
      "1099     148427295\n",
      "18       199603092\n",
      "23       237748145\n",
      "37       249864742\n",
      "68       457167155\n",
      "68       611059232\n",
      "744      888512513\n",
      "1103    1164614297\n",
      "146     1230306981\n",
      "1136    1307669133\n",
      "858     1316129916\n",
      "189     1614305549\n",
      "425     1920142716\n",
      "227     2038680547\n",
      "1196    2108080724\n",
      "237     2108163459\n",
      "269     2378935119\n",
      "278     2458001652\n",
      "360     2587333274\n",
      "382     2742574263\n",
      "349     2988190573\n",
      "424     3062433592\n",
      "501     3717692402\n",
      "514     3803269165\n",
      "456     3908431265\n",
      "467     3967698036\n",
      "743     4133034833\n",
      "499     4256040402\n",
      "662     4266935830\n",
      "Name: visitorId, dtype: int64\n"
     ]
    }
   ],
   "source": [
    "users_anomalias = (pd.concat(\n",
    "    [users_pedidos_out,users_revenue_out],\n",
    "    axis=0)\n",
    "    .drop_duplicates()\n",
    "    .sort_values()\n",
    ")\n",
    "\n",
    "print(users_anomalias)"
   ]
  },
  {
   "cell_type": "code",
   "execution_count": 184,
   "id": "4720ced5",
   "metadata": {},
   "outputs": [],
   "source": [
    "filtro_orders_A = pd.concat(\n",
    "    [\n",
    "        orders_user_A[\n",
    "            np.logical_not(orders_user_A['visitorId'].isin(users_anomalias))]['transactionId'],\n",
    "            pd.Series(\n",
    "                0,\n",
    "                index=np.arange(\n",
    "                    visits_us[visits_us['group'] == 'A']['visits'].sum() - len(orders_user_A['visitorId'])\n",
    "                ),\n",
    "                name='orders',\n",
    "            ),\n",
    "        ],\n",
    "        axis=0,\n",
    ")"
   ]
  },
  {
   "cell_type": "code",
   "execution_count": 185,
   "id": "0beb8f9f",
   "metadata": {},
   "outputs": [],
   "source": [
    "filtro_orders_B = pd.concat(\n",
    "    [\n",
    "        orders_user_B[\n",
    "            np.logical_not(orders_user_B['visitorId'].isin(users_anomalias))]['transactionId'],\n",
    "        pd.Series(\n",
    "            0,\n",
    "            index=np.arange(\n",
    "                visits_us[visits_us['group'] == 'B']['visits'].sum()\n",
    "                - len(orders_user_B['visitorId'])\n",
    "            ),\n",
    "            name='orders',\n",
    "        ),\n",
    "    ],\n",
    "    axis=0,\n",
    ")"
   ]
  },
  {
   "cell_type": "code",
   "execution_count": 186,
   "id": "92795303",
   "metadata": {},
   "outputs": [
    {
     "name": "stdout",
     "output_type": "stream",
     "text": [
      "MannwhitneyuResult(statistic=176020614.0, pvalue=0.01015327292407088)\n",
      "pvalue =  0.01015327292407088\n"
     ]
    }
   ],
   "source": [
    "conversao_mannwhitneyu_filtro = st.mannwhitneyu(filtro_orders_A,filtro_orders_B)\n",
    "print(conversao_mannwhitneyu_filtro)\n",
    "print('pvalue = ', conversao_mannwhitneyu_filtro[1])"
   ]
  },
  {
   "cell_type": "code",
   "execution_count": 187,
   "id": "5242473b",
   "metadata": {},
   "outputs": [
    {
     "name": "stdout",
     "output_type": "stream",
     "text": [
      "0.17394020922673525\n"
     ]
    }
   ],
   "source": [
    "media_relativa_filtro = (filtro_orders_B.mean() / filtro_orders_A.mean()) - 1\n",
    "print(media_relativa_filtro)"
   ]
  },
  {
   "cell_type": "markdown",
   "id": "0deb6a3c",
   "metadata": {},
   "source": [
    "Conclusão da conversão revisão filtrada:\n",
    "    \n",
    "    resultados anteriores:\n",
    "    p-value = 0.017\n",
    "    média de ganho relativa = 13,8%\n",
    "\n",
    "    resultados anteriores:\n",
    "    p-value = 0.010\n",
    "    média de ganho relativa = 17,4%\n",
    "\n",
    "    Com a exclusão dos valores anomalos, caiu a signifcancia estatistica do p-valor, continuando com a rejeição da hipotese nula de que os valores seriam iguais. A média aumentou, portanto o ganho relativo tambem aumentou"
   ]
  },
  {
   "cell_type": "code",
   "execution_count": 188,
   "id": "8edbf818",
   "metadata": {},
   "outputs": [],
   "source": [
    "filtro_revenue_A = orders_us[\n",
    "    np.logical_and(\n",
    "        orders_us['group']=='A',\n",
    "        np.logical_not(orders_us['visitorId'].isin(users_anomalias))\n",
    "    )\n",
    "]['revenue']\n",
    "\n",
    "filtro_revenue_B = orders_us[\n",
    "    np.logical_and(\n",
    "        orders_us['group']=='B',\n",
    "        np.logical_not(orders_us['visitorId'].isin(users_anomalias))\n",
    "    )\n",
    "]['revenue']"
   ]
  },
  {
   "cell_type": "code",
   "execution_count": 189,
   "id": "140464c4",
   "metadata": {},
   "outputs": [
    {
     "name": "stdout",
     "output_type": "stream",
     "text": [
      "MannwhitneyuResult(statistic=146873.0, pvalue=0.8382067595014578)\n",
      "pvalue =  0.8382067595014578\n"
     ]
    }
   ],
   "source": [
    "revenue_mannwhitneyu_filtro = st.mannwhitneyu(filtro_revenue_A,filtro_revenue_B)\n",
    "print(revenue_mannwhitneyu_filtro)\n",
    "print('pvalue = ', revenue_mannwhitneyu_filtro[1])"
   ]
  },
  {
   "cell_type": "code",
   "execution_count": 190,
   "id": "08069e1a",
   "metadata": {},
   "outputs": [
    {
     "name": "stdout",
     "output_type": "stream",
     "text": [
      "-0.022200992810667564\n"
     ]
    }
   ],
   "source": [
    "media_revenue_rel_filtro = (filtro_revenue_B.mean() / filtro_revenue_A.mean()) -1\n",
    "print(media_revenue_rel_filtro)"
   ]
  },
  {
   "cell_type": "markdown",
   "id": "f41ae79e",
   "metadata": {},
   "source": [
    "Conclusão da receita:\n",
    "    \n",
    "    resultados anteriores:\n",
    "    p-value = 0.69\n",
    "    média de ganho relativa = 25,2%\n",
    "\n",
    "    resultados anteriores:\n",
    "    p-value = 0.84\n",
    "    média de ganho relativa = - 2%\n",
    "\n",
    "    O p-valor continua alto, sendo relevante estatisticamente, portanto não podemos rejeitar a hipótese nula.\n",
    "    A média saiu como negativa, onde a média de receita do teste B é menor que a do teste A. "
   ]
  },
  {
   "cell_type": "markdown",
   "id": "08201011",
   "metadata": {},
   "source": [
    "# Conclusão Teste A/B"
   ]
  },
  {
   "cell_type": "markdown",
   "id": "b8179fa8",
   "metadata": {},
   "source": [
    "   Comparando as taxa de conversão, o teste B parece ter funcionado e trouxe mais clientes, independente da consideração dos Outliers ou não.\n",
    "   \n",
    "   Quanto a receita, o p-valor B é alto sendo relevante estatisticamente, portanto em termos de receita, o cenário A pode ser igual ao B mesmo com as alterações de exibição de sugestão de produtos. \n",
    "   Em um segundo cenário onde foram excluidos os Outliers, a receita no teste B dimuniu.\n",
    "   Aqui podemos pensar em algumas possibilidades:\n",
    "   1 - Apesar do aumento na quantidade de clientes, a receita não aumentou. Os custos operacionais se mantiveram na mesma proporção;\n",
    "   2 - As novas compras realmente foram de produtos de maior valor, não sendo viável excluir os Outliers, mas ainda considerando que o Teste A é igual ao Teste B, não apresentando grandes mudanças de receita;\n",
    "\n",
    "   Tendo isso em vista, a sugestão seria de parar o teste apresentando a melhora nas taxas de conversão, mas com o ponto de melhoria para publicidade de sugestão de outros produtos e talvez investigação do custo operacional."
   ]
  }
 ],
 "metadata": {
  "kernelspec": {
   "display_name": "base",
   "language": "python",
   "name": "python3"
  },
  "language_info": {
   "codemirror_mode": {
    "name": "ipython",
    "version": 3
   },
   "file_extension": ".py",
   "mimetype": "text/x-python",
   "name": "python",
   "nbconvert_exporter": "python",
   "pygments_lexer": "ipython3",
   "version": "3.12.4"
  }
 },
 "nbformat": 4,
 "nbformat_minor": 5
}
